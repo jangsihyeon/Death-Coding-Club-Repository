{
 "cells": [
  {
   "cell_type": "markdown",
   "metadata": {},
   "source": [
    "## 삼성 주식 EDA 포트폴리오"
   ]
  },
  {
   "cell_type": "code",
   "execution_count": 1,
   "metadata": {},
   "outputs": [],
   "source": [
    "# 라이브러리  \n",
    "\n",
    "import pandas as pd\n",
    "import numpy as np\n",
    "import matplotlib.pyplot as plt"
   ]
  },
  {
   "cell_type": "code",
   "execution_count": 2,
   "metadata": {},
   "outputs": [
    {
     "name": "stdout",
     "output_type": "stream",
     "text": [
      "         Date    Open    High     Low   Close    Adj Close     Volume\n",
      "0  2000-01-04  6000.0  6110.0  5660.0  6110.0  4651.737793   74195000\n",
      "1  2000-01-05  5800.0  6060.0  5520.0  5580.0  4248.232422   74680000\n",
      "2  2000-01-06  5750.0  5780.0  5580.0  5620.0  4278.686523   54390000\n",
      "3  2000-01-07  5560.0  5670.0  5360.0  5540.0  4217.780273   40305000\n",
      "4  2000-01-10  5600.0  5770.0  5580.0  5770.0  4392.884766   46880000\n",
      "5  2000-01-11  5820.0  6100.0  5770.0  5770.0  4392.884766   59745000\n",
      "6  2000-01-12  5610.0  5740.0  5600.0  5720.0  4354.818359   29220000\n",
      "7  2000-01-13  5600.0  5740.0  5560.0  5710.0  4347.205078   41190000\n",
      "8  2000-01-14  5720.0  5880.0  5680.0  5830.0  4438.565918   49375000\n",
      "9  2000-01-17  6000.0  6180.0  5920.0  6100.0  4644.125000   63505000\n",
      "10 2000-01-18  6160.0  6160.0  5980.0  6100.0  4644.125000   45260000\n",
      "11 2000-01-19  6000.0  6040.0  5960.0  5960.0  4537.538574   40205000\n",
      "12 2000-01-20  5860.0  6040.0  5820.0  6040.0  4598.444824   37315000\n",
      "13 2000-01-21  5950.0  5980.0  5880.0  5880.0  4476.631836   32535000\n",
      "14 2000-01-24  5800.0  5900.0  5700.0  5700.0  4339.591309   34355000\n",
      "15 2000-01-25  5520.0  5640.0  5440.0  5440.0  4141.645996   44250000\n",
      "16 2000-01-26  5500.0  5520.0  5410.0  5480.0  4172.099121   29285000\n",
      "17 2000-01-27  5480.0  5620.0  5430.0  5520.0  4202.552734   27900000\n",
      "18 2000-01-28  5640.0  5880.0  5540.0  5820.0  4430.951660   38315000\n",
      "19 2000-01-31  5640.0  5730.0  5560.0  5580.0  4248.232422   39630000\n",
      "20 2000-02-01  5600.0  5680.0  5260.0  5320.0  4050.285889   71470000\n",
      "21 2000-02-02  5220.0  5370.0  5110.0  5250.0  3996.992188   64105000\n",
      "22 2000-02-03  5250.0  5460.0  4970.0  5130.0  3905.632813  142765000\n",
      "23 2000-02-04  5130.0  5130.0  5130.0  5130.0  3905.632813          0\n",
      "24 2000-02-07  5140.0  5330.0  5040.0  5240.0  3989.381104   64140000\n"
     ]
    }
   ],
   "source": [
    "# 데이터 읽기\n",
    "\n",
    "data = pd.read_csv('Samsung.csv')\n",
    "\n",
    "data['Date'] = pd.to_datetime(data['Date'])\n",
    "\n",
    "print(data.head(25))"
   ]
  },
  {
   "cell_type": "code",
   "execution_count": 5,
   "metadata": {},
   "outputs": [
    {
     "name": "stdout",
     "output_type": "stream",
     "text": [
      "Date         0\n",
      "Open         0\n",
      "High         0\n",
      "Low          0\n",
      "Close        0\n",
      "Adj Close    0\n",
      "Volume       0\n",
      "dtype: int64\n",
      "\n",
      "Date         datetime64[ns]\n",
      "Open                float64\n",
      "High                float64\n",
      "Low                 float64\n",
      "Close               float64\n",
      "Adj Close           float64\n",
      "Volume                int64\n",
      "dtype: object\n"
     ]
    }
   ],
   "source": [
    "# 결측값 확인 \n",
    "\n",
    "print(data.isnull().sum())\n",
    "print(\"\")\n",
    "print(data.dtypes)\n",
    "\n",
    "# 결측값 Nan은 없으나 거래량이 0인 날짜 발견\n",
    "# 0을 결측값으로 보고 그 일자의 월별 평균 거래량으로 대체 "
   ]
  },
  {
   "cell_type": "code",
   "execution_count": 6,
   "metadata": {},
   "outputs": [],
   "source": [
    "# 연도-월 정보만 따로 추출\n",
    "\n",
    "data['Year_Month'] = data['Date'].dt.to_period('M')\n",
    "\n",
    "# 월별 평균 거래 값 구하고 vol_Yearmonth 라는 컬럼 만들기 \n",
    "\n",
    "vol_Yearmonth = data[data['Volume']>0].groupby('Year_Month')['Volume'].mean().reset_index()"
   ]
  },
  {
   "cell_type": "code",
   "execution_count": 7,
   "metadata": {},
   "outputs": [
    {
     "name": "stdout",
     "output_type": "stream",
     "text": [
      "        Date    Open    High     Low   Close    Adj Close    Volume Year_Month\n",
      "0 2000-01-04  6000.0  6110.0  5660.0  6110.0  4651.737793  74195000    2000-01\n",
      "1 2000-01-05  5800.0  6060.0  5520.0  5580.0  4248.232422  74680000    2000-01\n",
      "2 2000-01-06  5750.0  5780.0  5580.0  5620.0  4278.686523  54390000    2000-01\n",
      "3 2000-01-07  5560.0  5670.0  5360.0  5540.0  4217.780273  40305000    2000-01\n",
      "4 2000-01-10  5600.0  5770.0  5580.0  5770.0  4392.884766  46880000    2000-01\n"
     ]
    }
   ],
   "source": [
    "# year_month 추가 확인용\n",
    "\n",
    "print(data.head(5))"
   ]
  },
  {
   "cell_type": "code",
   "execution_count": 44,
   "metadata": {},
   "outputs": [],
   "source": [
    "# 병합  \n",
    "\n",
    "vol_Yearmonth.rename(columns={'Volume' : 'Volume_Avg'}, inplace=True)\n",
    "\n",
    "data = pd.merge(data, vol_Yearmonth, on = 'Year_Month', how = 'left')\n"
   ]
  },
  {
   "cell_type": "code",
   "execution_count": 45,
   "metadata": {},
   "outputs": [
    {
     "name": "stdout",
     "output_type": "stream",
     "text": [
      "        Date    Open    High     Low   Close    Adj Close    Volume  \\\n",
      "0 2000-01-04  6000.0  6110.0  5660.0  6110.0  4651.737793  74195000   \n",
      "1 2000-01-05  5800.0  6060.0  5520.0  5580.0  4248.232422  74680000   \n",
      "2 2000-01-06  5750.0  5780.0  5580.0  5620.0  4278.686523  54390000   \n",
      "3 2000-01-07  5560.0  5670.0  5360.0  5540.0  4217.780273  40305000   \n",
      "4 2000-01-10  5600.0  5770.0  5580.0  5770.0  4392.884766  46880000   \n",
      "\n",
      "  Year_Month  Volume_Avg  \n",
      "0    2000-01  45126750.0  \n",
      "1    2000-01  45126750.0  \n",
      "2    2000-01  45126750.0  \n",
      "3    2000-01  45126750.0  \n",
      "4    2000-01  45126750.0  \n"
     ]
    }
   ],
   "source": [
    "# 월별 형균 거래량 값 병합 결과 확인\n",
    "print(data.head())"
   ]
  },
  {
   "cell_type": "code",
   "execution_count": 18,
   "metadata": {},
   "outputs": [
    {
     "name": "stdout",
     "output_type": "stream",
     "text": [
      "         Date    Open    High     Low   Close    Adj Close       Volume  \\\n",
      "20 2000-02-01  5600.0  5680.0  5260.0  5320.0  4050.285889   71470000.0   \n",
      "21 2000-02-02  5220.0  5370.0  5110.0  5250.0  3996.992188   64105000.0   \n",
      "22 2000-02-03  5250.0  5460.0  4970.0  5130.0  3905.632813  142765000.0   \n",
      "23 2000-02-04  5130.0  5130.0  5130.0  5130.0  3905.632813   54614750.0   \n",
      "24 2000-02-07  5140.0  5330.0  5040.0  5240.0  3989.381104   64140000.0   \n",
      "\n",
      "   Year_Month  Volume_Avg  \n",
      "20    2000-02  54614750.0  \n",
      "21    2000-02  54614750.0  \n",
      "22    2000-02  54614750.0  \n",
      "23    2000-02  54614750.0  \n",
      "24    2000-02  54614750.0  \n"
     ]
    }
   ],
   "source": [
    "# 결측값 대체 \n",
    "\n",
    "data.loc[data['Volume']==0, 'Volume'] = data['Volume_Avg']\n",
    "\n",
    "print(data[20:25])  # 확인용 \n",
    "# 23번 행이 잘 변경된 것을 확인 할 수 있음 "
   ]
  },
  {
   "cell_type": "code",
   "execution_count": 56,
   "metadata": {},
   "outputs": [],
   "source": [
    "# 불필요한 값 제거  \n",
    "\n",
    "data.drop(columns=['Year_Month', 'Volume_Avg'], inplace=True)"
   ]
  },
  {
   "cell_type": "code",
   "execution_count": 52,
   "metadata": {},
   "outputs": [
    {
     "name": "stdout",
     "output_type": "stream",
     "text": [
      "Date          datetime64[ns]\n",
      "Open                 float64\n",
      "High                 float64\n",
      "Low                  float64\n",
      "Close                float64\n",
      "Adj Close            float64\n",
      "Volume                 int64\n",
      "Year_Month         period[M]\n",
      "Volume_Avg             int64\n",
      "dtype: object\n"
     ]
    }
   ],
   "source": [
    "# 평균값을 계산하고 거래량을 변경하는 과정에서 data type이 정수에서 실수로 변경되었음을 확인\n",
    "\n",
    "print(data.dtypes)"
   ]
  },
  {
   "cell_type": "code",
   "execution_count": 47,
   "metadata": {},
   "outputs": [
    {
     "name": "stdout",
     "output_type": "stream",
     "text": [
      "Date          datetime64[ns]\n",
      "Open                 float64\n",
      "High                 float64\n",
      "Low                  float64\n",
      "Close                float64\n",
      "Adj Close            float64\n",
      "Volume                 int64\n",
      "Year_Month         period[M]\n",
      "Volume_Avg           float64\n",
      "dtype: object\n"
     ]
    }
   ],
   "source": [
    "# 원래의 데이터 타입인 정수형으로 변경 \n",
    " \n",
    "data['Volume'] = data['Volume'].astype('int64')\n",
    "\n",
    "print(data.dtypes)"
   ]
  },
  {
   "cell_type": "markdown",
   "metadata": {},
   "source": [
    "### 가설 설정 \n",
    "\n",
    "1. 전일 주가 변동 폭은 다음날 주가 변동에 유의미한 영향을 미친다.\n",
    "\n",
    "2. 특정 주가 패턴이 발생한 후 다음날 주가는 일정한 가격 경향을 보인다.\n",
    "\n",
    "3. 매 분기 별 마지막 주가 변동 패턴이 분기내의 매 달 마무리의 주가 변동과 다르다. \n",
    "\n",
    "<!-- 4. USD가 오르면 삼성 주가도 오를 것이다. -> USD 데이터가 적당한걸 찾으면 추가  -->"
   ]
  },
  {
   "cell_type": "code",
   "execution_count": 58,
   "metadata": {},
   "outputs": [
    {
     "name": "stdout",
     "output_type": "stream",
     "text": [
      "    Year_Month  Volume_Avg\n",
      "0      2000-01    45126750\n",
      "1      2000-02    54614750\n",
      "2      2000-03    58108636\n",
      "3      2000-04    48618055\n",
      "4      2000-05    52636944\n",
      "..         ...         ...\n",
      "264    2022-01    14094903\n",
      "265    2022-02    13450284\n",
      "266    2022-03    14409354\n",
      "267    2022-04    14756225\n",
      "268    2022-05    14135625\n",
      "\n",
      "[269 rows x 2 columns]\n"
     ]
    }
   ],
   "source": [
    "# 그해 월별 평균 값 -> 필요할거 같아서 일단 추출해놓음 \n",
    "vol_Yearmonth['Volume_Avg'] = vol_Yearmonth['Volume_Avg'].astype('int64')\n",
    "print(vol_Yearmonth)"
   ]
  },
  {
   "cell_type": "code",
   "execution_count": 35,
   "metadata": {},
   "outputs": [
    {
     "data": {
      "image/png": "[encoded data removed]",
      "text/plain": [
       "<Figure size 1200x600 with 1 Axes>"
      ]
     },
     "metadata": {},
     "output_type": "display_data"
    }
   ],
   "source": [
    "# 장 마감 가격 시계열 그래프 \n",
    "\n",
    "plt.figure(figsize=(12,6))\n",
    "plt.plot(data['Date'], data['Close'], label='Close Price')\n",
    "plt.title('Closing Prices')\n",
    "plt.xlabel('Date')\n",
    "plt.ylabel('Price')\n",
    "plt.legend()\n",
    "plt.show()"
   ]
  },
  {
   "cell_type": "markdown",
   "metadata": {},
   "source": [
    "- 장 마감 주가 시계열 그래프로 확인해본 결과 점차 증가하는 추세를 확인 가능\n",
    "\n",
    "- 2016년과 202년 사이 주가가 급락했던 시점이 생기는데 2018~2019년 사이\n",
    "\n",
    "- 코로나로 인한 펜데믹으로 주가가 하락했다가 전 세계적 규제 완화로 인한 주가 상승"
   ]
  },
  {
   "cell_type": "code",
   "execution_count": 54,
   "metadata": {},
   "outputs": [],
   "source": [
    "# 가설 검증 \n",
    "\n",
    "# 1. 전일 주가 변동 폭은 다음날 주가 변동에 유의미한 영향을 미친다. "
   ]
  },
  {
   "cell_type": "code",
   "execution_count": 55,
   "metadata": {},
   "outputs": [],
   "source": [
    "# 가설 검증 \n",
    "\n",
    "# 2. 특정 주가 패턴이 발생한 후 다음날 주가는 일정한 가격 경향을 보인다.  "
   ]
  },
  {
   "cell_type": "code",
   "execution_count": 56,
   "metadata": {},
   "outputs": [],
   "source": [
    "# 가설 검증 \n",
    "\n",
    "# 3. 매 분기 별 마지막 주가 변동 패턴이 분기내의 매 달 마무리의 주가 변동과 다르다."
   ]
  }
 ],
 "metadata": {
  "kernelspec": {
   "display_name": "Python 3",
   "language": "python",
   "name": "python3"
  },
  "language_info": {
   "codemirror_mode": {
    "name": "ipython",
    "version": 3
   },
   "file_extension": ".py",
   "mimetype": "text/x-python",
   "name": "python",
   "nbconvert_exporter": "python",
   "pygments_lexer": "ipython3",
   "version": "3.11.4"
  }
 },
 "nbformat": 4,
 "nbformat_minor": 2
}
